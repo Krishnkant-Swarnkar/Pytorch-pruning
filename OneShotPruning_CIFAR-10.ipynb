{
 "cells": [
  {
   "cell_type": "code",
   "execution_count": 1,
   "metadata": {},
   "outputs": [
    {
     "name": "stdout",
     "output_type": "stream",
     "text": [
      "cuda\n"
     ]
    }
   ],
   "source": [
    "import torch\n",
    "import torch.optim\n",
    "import torch.nn as nn\n",
    "\n",
    "from pruning.unstructured import OneShotPruning\n",
    "from models import resnet20\n",
    "from utils import compute_accuracy, DATASETS\n",
    "\n",
    "device = torch.device(\"cuda\" if torch.cuda.is_available() else \"cpu\")\n",
    "print(device)"
   ]
  },
  {
   "cell_type": "markdown",
   "metadata": {},
   "source": [
    "# Set the arguments before we start"
   ]
  },
  {
   "cell_type": "code",
   "execution_count": 2,
   "metadata": {},
   "outputs": [],
   "source": [
    "args_dict = {\n",
    "    \"prune_ratio\": 0.6,\n",
    "    \"sparsity_reg\": \"none\",\n",
    "    \"retrain_mode\": \"weight-rewinding\",\n",
    "    \n",
    "    \"model_path\": \"./saved_models/oneshot\",\n",
    "    \"seed\": 2020,\n",
    "    \"batch_size\": 128,\n",
    "    \"init_lr\": 0.1,\n",
    "    \"weight_decay\": 1e-4,\n",
    "    \"train_epochs\": 200,\n",
    "    \"retrain_epochs\": 200,\n",
    "    \"rewind_epoch\": 1.4, # 1.4 chosen as per the \"The Lottery Ticket Hypothesis at Scale\" paper\n",
    "    \"use_early_stop\": True,\n",
    "    \"patience\":10\n",
    "}\n",
    "\n",
    "class Args():\n",
    "    def __init__(self):\n",
    "        pass\n",
    "args = Args()\n",
    "for k,v in args_dict.items():\n",
    "    setattr(args, k, v)"
   ]
  },
  {
   "cell_type": "markdown",
   "metadata": {},
   "source": [
    "# Get the DataLoaders and the Model"
   ]
  },
  {
   "cell_type": "code",
   "execution_count": 3,
   "metadata": {},
   "outputs": [
    {
     "name": "stdout",
     "output_type": "stream",
     "text": [
      "Files already downloaded and verified\n"
     ]
    }
   ],
   "source": [
    "dataset = DATASETS['CIFAR-10']\n",
    "train_loader, val_loader, test_loader = dataset['loaders'](args, seed=2020)"
   ]
  },
  {
   "cell_type": "code",
   "execution_count": 4,
   "metadata": {},
   "outputs": [],
   "source": [
    "criterion = criterion = nn.CrossEntropyLoss().cuda()\n",
    "model = resnet20(dataset['num_classes'], criterion, device)\n",
    "model = model.to(device)"
   ]
  },
  {
   "cell_type": "code",
   "execution_count": 5,
   "metadata": {},
   "outputs": [],
   "source": [
    "optimizer = torch.optim.SGD(model.parameters(), args.init_lr, momentum=0.9, weight_decay=1e-4)\n",
    "lr_scheduler = torch.optim.lr_scheduler.MultiStepLR(optimizer, milestones=[100, 150])"
   ]
  },
  {
   "cell_type": "markdown",
   "metadata": {},
   "source": [
    "# Define the parameters to prune\n",
    "\n",
    "check the parameter list by running the following cell"
   ]
  },
  {
   "cell_type": "code",
   "execution_count": 6,
   "metadata": {},
   "outputs": [
    {
     "data": {
      "text/plain": [
       "['conv1.weight',\n",
       " 'bn1.weight',\n",
       " 'bn1.bias',\n",
       " 'layer1.0.conv1.weight',\n",
       " 'layer1.0.bn1.weight',\n",
       " 'layer1.0.bn1.bias',\n",
       " 'layer1.0.conv2.weight',\n",
       " 'layer1.0.bn2.weight',\n",
       " 'layer1.0.bn2.bias',\n",
       " 'layer1.1.conv1.weight',\n",
       " 'layer1.1.bn1.weight',\n",
       " 'layer1.1.bn1.bias',\n",
       " 'layer1.1.conv2.weight',\n",
       " 'layer1.1.bn2.weight',\n",
       " 'layer1.1.bn2.bias',\n",
       " 'layer1.2.conv1.weight',\n",
       " 'layer1.2.bn1.weight',\n",
       " 'layer1.2.bn1.bias',\n",
       " 'layer1.2.conv2.weight',\n",
       " 'layer1.2.bn2.weight',\n",
       " 'layer1.2.bn2.bias',\n",
       " 'layer2.0.conv1.weight',\n",
       " 'layer2.0.bn1.weight',\n",
       " 'layer2.0.bn1.bias',\n",
       " 'layer2.0.conv2.weight',\n",
       " 'layer2.0.bn2.weight',\n",
       " 'layer2.0.bn2.bias',\n",
       " 'layer2.1.conv1.weight',\n",
       " 'layer2.1.bn1.weight',\n",
       " 'layer2.1.bn1.bias',\n",
       " 'layer2.1.conv2.weight',\n",
       " 'layer2.1.bn2.weight',\n",
       " 'layer2.1.bn2.bias',\n",
       " 'layer2.2.conv1.weight',\n",
       " 'layer2.2.bn1.weight',\n",
       " 'layer2.2.bn1.bias',\n",
       " 'layer2.2.conv2.weight',\n",
       " 'layer2.2.bn2.weight',\n",
       " 'layer2.2.bn2.bias',\n",
       " 'layer3.0.conv1.weight',\n",
       " 'layer3.0.bn1.weight',\n",
       " 'layer3.0.bn1.bias',\n",
       " 'layer3.0.conv2.weight',\n",
       " 'layer3.0.bn2.weight',\n",
       " 'layer3.0.bn2.bias',\n",
       " 'layer3.1.conv1.weight',\n",
       " 'layer3.1.bn1.weight',\n",
       " 'layer3.1.bn1.bias',\n",
       " 'layer3.1.conv2.weight',\n",
       " 'layer3.1.bn2.weight',\n",
       " 'layer3.1.bn2.bias',\n",
       " 'layer3.2.conv1.weight',\n",
       " 'layer3.2.bn1.weight',\n",
       " 'layer3.2.bn1.bias',\n",
       " 'layer3.2.conv2.weight',\n",
       " 'layer3.2.bn2.weight',\n",
       " 'layer3.2.bn2.bias',\n",
       " 'linear.weight',\n",
       " 'linear.bias']"
      ]
     },
     "execution_count": 6,
     "metadata": {},
     "output_type": "execute_result"
    }
   ],
   "source": [
    "[name for name, _ in model.named_parameters()]"
   ]
  },
  {
   "cell_type": "code",
   "execution_count": 7,
   "metadata": {},
   "outputs": [],
   "source": [
    "def parameters_to_prune(m):\n",
    "    return [\n",
    "        (m.conv1, 'weight'),\n",
    "        (m.layer1[0].conv1, 'weight'), (m.layer1[0].conv2, 'weight'), (m.layer1[1].conv1, 'weight'),\n",
    "        (m.layer1[1].conv2, 'weight'), (m.layer1[2].conv1, 'weight'), (m.layer1[2].conv2, 'weight'), \n",
    "        (m.layer2[0].conv1, 'weight'), (m.layer2[0].conv2, 'weight'), (m.layer2[1].conv1, 'weight'),\n",
    "        (m.layer2[1].conv2, 'weight'), (m.layer2[2].conv1, 'weight'), (m.layer2[2].conv2, 'weight'), \n",
    "        (m.layer3[0].conv1, 'weight'), (m.layer3[0].conv2, 'weight'), (m.layer3[1].conv1, 'weight'), \n",
    "        (m.layer3[1].conv2, 'weight'), (m.layer3[2].conv1, 'weight'), (m.layer3[2].conv2, 'weight'), \n",
    "        (m.linear, 'weight')\n",
    "    ]"
   ]
  },
  {
   "cell_type": "markdown",
   "metadata": {},
   "source": [
    "# Lets get the Lottery Ticket\n",
    "\n",
    "reference: [Lottery Ticket Hypothesis](https://arxiv.org/abs/1803.03635)"
   ]
  },
  {
   "cell_type": "code",
   "execution_count": 8,
   "metadata": {},
   "outputs": [],
   "source": [
    "one_shot_pruning = OneShotPruning(model, parameters_to_prune, optimizer, lr_scheduler, train_loader, val_loader, compute_accuracy, device, args)"
   ]
  },
  {
   "cell_type": "code",
   "execution_count": 9,
   "metadata": {},
   "outputs": [
    {
     "data": {
      "image/png": "[encoded data removed]",
      "text/plain": [
       "<Figure size 864x576 with 2 Axes>"
      ]
     },
     "metadata": {
      "needs_background": "light"
     },
     "output_type": "display_data"
    },
    {
     "name": "stderr",
     "output_type": "stream",
     "text": [
      "  0%|          | 0/79 [00:00<?, ?it/s]"
     ]
    },
    {
     "name": "stdout",
     "output_type": "stream",
     "text": [
      "Loss\n",
      "\ttraining         \t (min:    0.235, max:    1.376, cur:    0.235)\n",
      "\tvalidation       \t (min:    0.509, max:    1.343, cur:    0.535)\n",
      "performance\n",
      "\tval_performance  \t (min:    0.508, max:    0.837, cur:    0.833)\n"
     ]
    },
    {
     "name": "stderr",
     "output_type": "stream",
     "text": [
      "100%|██████████| 79/79 [00:01<00:00, 54.80it/s]"
     ]
    },
    {
     "name": "stdout",
     "output_type": "stream",
     "text": [
      " val accuracy (original): 0.8157\n",
      " val accuracy (pruned): 0.6602 \n",
      " val accuracy (retrained): 0.8257 \n"
     ]
    },
    {
     "name": "stderr",
     "output_type": "stream",
     "text": [
      "\n"
     ]
    }
   ],
   "source": [
    "_, ckpt_orig_path, ckpt_pruned_path, loss_history_orig, loss_history_pruned = one_shot_pruning.get_ticket()"
   ]
  },
  {
   "cell_type": "code",
   "execution_count": null,
   "metadata": {},
   "outputs": [],
   "source": []
  },
  {
   "cell_type": "code",
   "execution_count": null,
   "metadata": {},
   "outputs": [],
   "source": []
  },
  {
   "cell_type": "code",
   "execution_count": null,
   "metadata": {},
   "outputs": [],
   "source": []
  }
 ],
 "metadata": {
  "kernelspec": {
   "display_name": "Python 3",
   "language": "python",
   "name": "python3"
  },
  "language_info": {
   "codemirror_mode": {
    "name": "ipython",
    "version": 3
   },
   "file_extension": ".py",
   "mimetype": "text/x-python",
   "name": "python",
   "nbconvert_exporter": "python",
   "pygments_lexer": "ipython3",
   "version": "3.6.1"
  }
 },
 "nbformat": 4,
 "nbformat_minor": 4
}
